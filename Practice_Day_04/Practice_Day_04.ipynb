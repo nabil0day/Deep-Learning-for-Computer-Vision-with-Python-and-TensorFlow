{
  "nbformat": 4,
  "nbformat_minor": 0,
  "metadata": {
    "colab": {
      "provenance": [],
      "authorship_tag": "ABX9TyNlbVjMtnVJP5caXAoDxjgR",
      "include_colab_link": true
    },
    "kernelspec": {
      "name": "python3",
      "display_name": "Python 3"
    },
    "language_info": {
      "name": "python"
    }
  },
  "cells": [
    {
      "cell_type": "markdown",
      "metadata": {
        "id": "view-in-github",
        "colab_type": "text"
      },
      "source": [
        "<a href=\"https://colab.research.google.com/github/nabil0day/Deep-Learning-for-Computer-Vision-with-Python-and-TensorFlow/blob/main/Practice_Day_04/Practice_Day_04.ipynb\" target=\"_parent\"><img src=\"https://colab.research.google.com/assets/colab-badge.svg\" alt=\"Open In Colab\"/></a>"
      ]
    },
    {
      "cell_type": "code",
      "execution_count": 1,
      "metadata": {
        "id": "yO2pZ3BxTENx"
      },
      "outputs": [],
      "source": [
        "import tensorflow as tf\n",
        "import numpy as np"
      ]
    },
    {
      "cell_type": "code",
      "source": [
        "x_argmax = tf.constant([[2, 20, 30, 3, 6],\n",
        "                        [3, 11, 16, 1, 8],\n",
        "                        [14, 45, 23, 5, 27]])\n",
        "print(x_argmax.shape) #Just print the share # rows, 5 columns"
      ],
      "metadata": {
        "colab": {
          "base_uri": "https://localhost:8080/"
        },
        "id": "92spBP5tUg6z",
        "outputId": "75a86d5d-fd3e-454e-e16a-6d3d47eec1f8"
      },
      "execution_count": 2,
      "outputs": [
        {
          "output_type": "stream",
          "name": "stdout",
          "text": [
            "(3, 5)\n"
          ]
        }
      ]
    },
    {
      "cell_type": "code",
      "source": [
        "#argmax (Return that index that have maximum value)\n",
        "x_argmax = tf.constant([2, 20, 30, 366, 6])\n",
        "print(tf.math.argmax(x_argmax))"
      ],
      "metadata": {
        "colab": {
          "base_uri": "https://localhost:8080/"
        },
        "id": "vJPLvh8mU1fT",
        "outputId": "a665c89f-f6f8-4a39-fe54-fa5fab321a6c"
      },
      "execution_count": 4,
      "outputs": [
        {
          "output_type": "stream",
          "name": "stdout",
          "text": [
            "tf.Tensor(3, shape=(), dtype=int64)\n"
          ]
        }
      ]
    },
    {
      "cell_type": "code",
      "source": [
        "#argmin (Returt that index that have minimum value)\n",
        "x_argmax = tf.constant([200, 20, 30, 366, 6])\n",
        "print(tf.math.argmin(x_argmax))"
      ],
      "metadata": {
        "colab": {
          "base_uri": "https://localhost:8080/"
        },
        "id": "OHmFvS_oVjwx",
        "outputId": "024062c8-9997-43bf-e5d1-1a44e47c994b"
      },
      "execution_count": 6,
      "outputs": [
        {
          "output_type": "stream",
          "name": "stdout",
          "text": [
            "tf.Tensor(4, shape=(), dtype=int64)\n"
          ]
        }
      ]
    },
    {
      "cell_type": "code",
      "source": [
        "x_argmax = tf.constant([[2, 20, 30, 3, 6],\n",
        "                        [3, 11, 16, 1, 8],\n",
        "                        [14, 45, 23, 5, 27]])\n",
        "print(tf.math.argmax(x_argmax)) #For multidimentional axis\n",
        "                                # Actually its find out the index in column wise"
      ],
      "metadata": {
        "colab": {
          "base_uri": "https://localhost:8080/"
        },
        "id": "Byl4ABgcV9WA",
        "outputId": "af9716e2-4dec-435d-e2d5-2238c229c7e9"
      },
      "execution_count": 7,
      "outputs": [
        {
          "output_type": "stream",
          "name": "stdout",
          "text": [
            "tf.Tensor([2 2 0 2 2], shape=(5,), dtype=int64)\n"
          ]
        }
      ]
    },
    {
      "cell_type": "code",
      "source": [
        "x_argmax = tf.constant([[2, 20, 30, 3, 6],\n",
        "                        [3, 11, 16, 1, 8],\n",
        "                        [14, 45, 23, 5, 27]])\n",
        "print(tf.math.argmin(x_argmax)) #For multidimentional axis\n",
        "                                # Actually its find out the index in column wise"
      ],
      "metadata": {
        "colab": {
          "base_uri": "https://localhost:8080/"
        },
        "id": "srULW4lPW0Kl",
        "outputId": "f2aa0d5b-4a77-47b8-9cf5-321bdf91f277"
      },
      "execution_count": 8,
      "outputs": [
        {
          "output_type": "stream",
          "name": "stdout",
          "text": [
            "tf.Tensor([0 1 1 1 0], shape=(5,), dtype=int64)\n"
          ]
        }
      ]
    },
    {
      "cell_type": "code",
      "source": [
        "# using power in multidimentional\n",
        "x = tf.constant([[2, 2], [3, 3]])\n",
        "y = tf.constant([[3, 0], [1, 4]])\n",
        "tf.pow(x, y)  # [[256, 65536], [9, 27]]"
      ],
      "metadata": {
        "colab": {
          "base_uri": "https://localhost:8080/"
        },
        "id": "ATIqJUj__A1m",
        "outputId": "551b4a6c-4ee9-4cfa-d325-a0e2adf37f72"
      },
      "execution_count": 2,
      "outputs": [
        {
          "output_type": "execute_result",
          "data": {
            "text/plain": [
              "<tf.Tensor: shape=(2, 2), dtype=int32, numpy=\n",
              "array([[ 8,  1],\n",
              "       [ 3, 81]], dtype=int32)>"
            ]
          },
          "metadata": {},
          "execution_count": 2
        }
      ]
    },
    {
      "cell_type": "code",
      "source": [
        "#Reduce Sum\n",
        "tensor_two_d = tf.constant([\n",
        "    [1,2,3],\n",
        "    [4,5,6],\n",
        "    [8,9,200],\n",
        "    [22,31,222]\n",
        "])\n",
        "print(tensor_two_d)\n",
        "\n",
        "print(tf.math.reduce_sum(tensor_two_d, axis=None, keepdims=False, name=None))"
      ],
      "metadata": {
        "colab": {
          "base_uri": "https://localhost:8080/"
        },
        "id": "Lj-AbrdNAUVg",
        "outputId": "4bda0ec8-bc4c-4c67-8d24-6e48431b0e04"
      },
      "execution_count": 4,
      "outputs": [
        {
          "output_type": "stream",
          "name": "stdout",
          "text": [
            "tf.Tensor(\n",
            "[[  1   2   3]\n",
            " [  4   5   6]\n",
            " [  8   9 200]\n",
            " [ 22  31 222]], shape=(4, 3), dtype=int32)\n",
            "tf.Tensor(513, shape=(), dtype=int32)\n"
          ]
        }
      ]
    },
    {
      "cell_type": "code",
      "source": [
        "#Reduce Max\n",
        "tensor_two_d = tf.constant([\n",
        "    [1,2,3],\n",
        "    [4,5,6],\n",
        "    [8,9,200],\n",
        "    [22,31,222]\n",
        "])\n",
        "print(tensor_two_d)\n",
        "\n",
        "print(tf.math.reduce_max(tensor_two_d, axis=None, keepdims=False, name=None))"
      ],
      "metadata": {
        "colab": {
          "base_uri": "https://localhost:8080/"
        },
        "id": "Y8U0xLuwBYmY",
        "outputId": "21ddd922-8f90-49f9-a90c-dfdc39a1eee6"
      },
      "execution_count": 6,
      "outputs": [
        {
          "output_type": "stream",
          "name": "stdout",
          "text": [
            "tf.Tensor(\n",
            "[[  1   2   3]\n",
            " [  4   5   6]\n",
            " [  8   9 200]\n",
            " [ 22  31 222]], shape=(4, 3), dtype=int32)\n",
            "tf.Tensor(222, shape=(), dtype=int32)\n"
          ]
        }
      ]
    },
    {
      "cell_type": "code",
      "source": [
        "#Reduce Min\n",
        "tensor_two_d = tf.constant([\n",
        "    [1,2,3],\n",
        "    [4,5,6],\n",
        "    [8,9,200],\n",
        "    [22,31,222]\n",
        "])\n",
        "print(tensor_two_d)\n",
        "\n",
        "print(tf.math.reduce_min(tensor_two_d, axis=None, keepdims=False, name=None))"
      ],
      "metadata": {
        "colab": {
          "base_uri": "https://localhost:8080/"
        },
        "id": "Zgz7ojJjBntS",
        "outputId": "e105e227-47cf-4d39-ab9c-52805dcaff5f"
      },
      "execution_count": 7,
      "outputs": [
        {
          "output_type": "stream",
          "name": "stdout",
          "text": [
            "tf.Tensor(\n",
            "[[  1   2   3]\n",
            " [  4   5   6]\n",
            " [  8   9 200]\n",
            " [ 22  31 222]], shape=(4, 3), dtype=int32)\n",
            "tf.Tensor(1, shape=(), dtype=int32)\n"
          ]
        }
      ]
    },
    {
      "cell_type": "code",
      "source": [
        "#Changing Axis and Data Type of the previous Reduce Min Code\n",
        "tensor_two_d = tf.constant([\n",
        "    [1,2,3],\n",
        "    [4,5,6],\n",
        "    [8,9,200],\n",
        "    [22,31,222]], dtype = tf.float32\n",
        ")\n",
        "print(tensor_two_d)\n",
        "\n",
        "print(tf.math.reduce_min(tensor_two_d, axis=0, keepdims=False, name=None))"
      ],
      "metadata": {
        "colab": {
          "base_uri": "https://localhost:8080/"
        },
        "id": "AKrdkXP-Cjsd",
        "outputId": "bb2b6b8a-790b-4399-d473-de5076444a90"
      },
      "execution_count": 10,
      "outputs": [
        {
          "output_type": "stream",
          "name": "stdout",
          "text": [
            "tf.Tensor(\n",
            "[[  1.   2.   3.]\n",
            " [  4.   5.   6.]\n",
            " [  8.   9. 200.]\n",
            " [ 22.  31. 222.]], shape=(4, 3), dtype=float32)\n",
            "tf.Tensor([1. 2. 3.], shape=(3,), dtype=float32)\n"
          ]
        }
      ]
    }
  ]
}