{
  "nbformat": 4,
  "nbformat_minor": 0,
  "metadata": {
    "colab": {
      "provenance": [],
      "authorship_tag": "ABX9TyOP8rzZqZPTlrIofCiS325N",
      "include_colab_link": true
    },
    "kernelspec": {
      "name": "python3",
      "display_name": "Python 3"
    },
    "language_info": {
      "name": "python"
    }
  },
  "cells": [
    {
      "cell_type": "markdown",
      "metadata": {
        "id": "view-in-github",
        "colab_type": "text"
      },
      "source": [
        "<a href=\"https://colab.research.google.com/github/nabil0day/Deep-Learning-for-Computer-Vision-with-Python-and-TensorFlow/blob/main/Practice_Day_02/Tensor_Flow_Practice_Day_2.ipynb\" target=\"_parent\"><img src=\"https://colab.research.google.com/assets/colab-badge.svg\" alt=\"Open In Colab\"/></a>"
      ]
    },
    {
      "cell_type": "code",
      "execution_count": 3,
      "metadata": {
        "colab": {
          "base_uri": "https://localhost:8080/"
        },
        "id": "4uXb2AIxIkMF",
        "outputId": "f368fa0c-17ed-456e-f83c-99b97a78b01c"
      },
      "outputs": [
        {
          "output_type": "stream",
          "name": "stdout",
          "text": [
            "tf.Tensor(\n",
            "[[0. 0.]\n",
            " [0. 0.]\n",
            " [0. 0.]], shape=(3, 2), dtype=float32)\n"
          ]
        }
      ],
      "source": [
        "import tensorflow as tf\n",
        "import numpy as np\n",
        "zero_tensor = tf.zeros(\n",
        "    [3,2],\n",
        "    dtype=tf.dtypes.float32,\n",
        "    name=None\n",
        ")\n",
        "print(zero_tensor)"
      ]
    },
    {
      "cell_type": "code",
      "source": [
        "# shape of tensor 't' is [2, 2, 3]\n",
        "t = tf.constant([[[1, 1, 1], [2, 2, 2]], [[3, 3, 3], [4, 4, 4]]])\n",
        "tf.rank(t)  # 3"
      ],
      "metadata": {
        "colab": {
          "base_uri": "https://localhost:8080/"
        },
        "id": "xyhLa5bFKdVo",
        "outputId": "18a764ab-1622-4ad8-9197-775e99e2131b"
      },
      "execution_count": 8,
      "outputs": [
        {
          "output_type": "execute_result",
          "data": {
            "text/plain": [
              "<tf.Tensor: shape=(), dtype=int32, numpy=3>"
            ]
          },
          "metadata": {},
          "execution_count": 8
        }
      ]
    },
    {
      "cell_type": "code",
      "source": [
        "# shape of tensor 't' is [2, 2, 3]\n",
        "t = tf.constant([[1, 1, 1], [2, 2, 2]])\n",
        "tf.rank(t)  # 2"
      ],
      "metadata": {
        "colab": {
          "base_uri": "https://localhost:8080/"
        },
        "id": "f6nToVWfLNJJ",
        "outputId": "eaf832d1-9ec2-43f5-cb13-1a3dfebd6174"
      },
      "execution_count": 9,
      "outputs": [
        {
          "output_type": "execute_result",
          "data": {
            "text/plain": [
              "<tf.Tensor: shape=(), dtype=int32, numpy=2>"
            ]
          },
          "metadata": {},
          "execution_count": 9
        }
      ]
    },
    {
      "cell_type": "code",
      "source": [
        "t = tf.constant([[[1, 1, 1], [2, 2, 2]], [[3, 3, 3], [4, 4, 4]]])\n",
        "tf.size(t)\n"
      ],
      "metadata": {
        "colab": {
          "base_uri": "https://localhost:8080/"
        },
        "id": "bZEZGnRWLkXz",
        "outputId": "348229e1-5053-489c-c94c-b3e98f585f04"
      },
      "execution_count": 10,
      "outputs": [
        {
          "output_type": "execute_result",
          "data": {
            "text/plain": [
              "<tf.Tensor: shape=(), dtype=int32, numpy=12>"
            ]
          },
          "metadata": {},
          "execution_count": 10
        }
      ]
    },
    {
      "cell_type": "code",
      "source": [
        "random_tensor = tf.random.normal(\n",
        "    [5,3],\n",
        "    mean=0.0,\n",
        "    stddev=1.0,\n",
        "    dtype=tf.dtypes.float32,\n",
        "    seed=None,\n",
        "    name=None\n",
        ")\n",
        "print(random_tensor)"
      ],
      "metadata": {
        "colab": {
          "base_uri": "https://localhost:8080/"
        },
        "id": "3ppWerhyWYuo",
        "outputId": "e56a62ab-1f52-41e8-966a-ac8c4813621d"
      },
      "execution_count": 12,
      "outputs": [
        {
          "output_type": "stream",
          "name": "stdout",
          "text": [
            "tf.Tensor(\n",
            "[[ 2.7601748   1.2193135  -2.0908597 ]\n",
            " [-1.6059277  -0.582384    1.3035922 ]\n",
            " [ 0.18052389  1.6998352  -1.8021916 ]\n",
            " [-0.08840788  0.48662052  0.4496461 ]\n",
            " [-1.2747091   2.733951    0.35918948]], shape=(5, 3), dtype=float32)\n"
          ]
        }
      ]
    },
    {
      "cell_type": "code",
      "source": [
        "random_tensor = tf.random.normal(\n",
        "    [5,3],\n",
        "    mean=100.0,\n",
        "    stddev=1.0,\n",
        "    dtype=tf.dtypes.float32,\n",
        "    seed=None,\n",
        "    name=None\n",
        ")\n",
        "print(random_tensor)"
      ],
      "metadata": {
        "colab": {
          "base_uri": "https://localhost:8080/"
        },
        "id": "JXWmNx87vdYf",
        "outputId": "101b5d18-ba77-46d4-8de9-2bf466d1f7df"
      },
      "execution_count": 13,
      "outputs": [
        {
          "output_type": "stream",
          "name": "stdout",
          "text": [
            "tf.Tensor(\n",
            "[[ 99.267944  99.20703   98.14954 ]\n",
            " [ 98.34594  101.055046  98.96124 ]\n",
            " [ 99.01215   99.92256   98.18528 ]\n",
            " [ 99.88765   98.93795   99.71479 ]\n",
            " [ 98.76951   98.6216    99.68665 ]], shape=(5, 3), dtype=float32)\n"
          ]
        }
      ]
    },
    {
      "cell_type": "code",
      "source": [
        "rand_tensor = tf.random.uniform(\n",
        "    [5,],\n",
        "    minval=0,\n",
        "    maxval=8,\n",
        "    dtype=tf.dtypes.float32,\n",
        "    seed=None,\n",
        "    name=None\n",
        ")\n",
        "print(rand_tensor)"
      ],
      "metadata": {
        "colab": {
          "base_uri": "https://localhost:8080/"
        },
        "id": "WEjnGLXfxIAW",
        "outputId": "6da0d2fd-e63e-4a1d-e736-2009529d0083"
      },
      "execution_count": 4,
      "outputs": [
        {
          "output_type": "stream",
          "name": "stdout",
          "text": [
            "tf.Tensor([7.195943  3.2532787 3.819007  4.769129  6.410989 ], shape=(5,), dtype=float32)\n"
          ]
        }
      ]
    }
  ]
}