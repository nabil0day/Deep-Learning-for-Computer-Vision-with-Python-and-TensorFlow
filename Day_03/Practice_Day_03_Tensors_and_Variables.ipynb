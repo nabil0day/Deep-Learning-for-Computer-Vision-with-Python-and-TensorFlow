{
  "nbformat": 4,
  "nbformat_minor": 0,
  "metadata": {
    "colab": {
      "provenance": [],
      "authorship_tag": "ABX9TyMIby6R/pUedZJHnZePaaA5",
      "include_colab_link": true
    },
    "kernelspec": {
      "name": "python3",
      "display_name": "Python 3"
    },
    "language_info": {
      "name": "python"
    }
  },
  "cells": [
    {
      "cell_type": "markdown",
      "metadata": {
        "id": "view-in-github",
        "colab_type": "text"
      },
      "source": [
        "<a href=\"https://colab.research.google.com/github/nabil0day/Deep-Learning-for-Computer-Vision-with-Python-and-TensorFlow/blob/main/Day_03/Practice_Day_03_Tensors_and_Variables.ipynb\" target=\"_parent\"><img src=\"https://colab.research.google.com/assets/colab-badge.svg\" alt=\"Open In Colab\"/></a>"
      ]
    },
    {
      "cell_type": "code",
      "execution_count": 2,
      "metadata": {
        "id": "z_fPUx6o59Rw"
      },
      "outputs": [],
      "source": [
        "import tensorflow as tf\n",
        "import numpy as np"
      ]
    },
    {
      "cell_type": "code",
      "source": [
        "tensor_indexed = tf.constant([3,5,6,7,8,9,10,20])\n",
        "print(tensor_indexed)\n",
        "print(tensor_indexed[0:3])\n",
        "print(tensor_indexed[1:3])\n",
        "print(tensor_indexed[-1:1])\n",
        "print(tensor_indexed[:-1])\n"
      ],
      "metadata": {
        "colab": {
          "base_uri": "https://localhost:8080/"
        },
        "id": "x8vehODt6hqS",
        "outputId": "60b48038-2ae0-472a-9f27-e844ed262d7c"
      },
      "execution_count": 3,
      "outputs": [
        {
          "output_type": "stream",
          "name": "stdout",
          "text": [
            "tf.Tensor([ 3  5  6  7  8  9 10 20], shape=(8,), dtype=int32)\n",
            "tf.Tensor([3 5 6], shape=(3,), dtype=int32)\n",
            "tf.Tensor([5 6], shape=(2,), dtype=int32)\n",
            "tf.Tensor([], shape=(0,), dtype=int32)\n",
            "tf.Tensor([ 3  5  6  7  8  9 10], shape=(7,), dtype=int32)\n"
          ]
        }
      ]
    }
  ]
}