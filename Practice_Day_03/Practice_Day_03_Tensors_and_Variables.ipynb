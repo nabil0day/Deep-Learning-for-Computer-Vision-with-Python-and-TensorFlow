{
  "nbformat": 4,
  "nbformat_minor": 0,
  "metadata": {
    "colab": {
      "provenance": [],
      "authorship_tag": "ABX9TyPYFwSrYj32TSyDiy9xbII6",
      "include_colab_link": true
    },
    "kernelspec": {
      "name": "python3",
      "display_name": "Python 3"
    },
    "language_info": {
      "name": "python"
    }
  },
  "cells": [
    {
      "cell_type": "markdown",
      "metadata": {
        "id": "view-in-github",
        "colab_type": "text"
      },
      "source": [
        "<a href=\"https://colab.research.google.com/github/nabil0day/Deep-Learning-for-Computer-Vision-with-Python-and-TensorFlow/blob/main/Practice_Day_03/Practice_Day_03_Tensors_and_Variables.ipynb\" target=\"_parent\"><img src=\"https://colab.research.google.com/assets/colab-badge.svg\" alt=\"Open In Colab\"/></a>"
      ]
    },
    {
      "cell_type": "code",
      "execution_count": 18,
      "metadata": {
        "id": "z_fPUx6o59Rw"
      },
      "outputs": [],
      "source": [
        "import tensorflow as tf\n",
        "import numpy as np"
      ]
    },
    {
      "cell_type": "code",
      "source": [
        "#Index\n",
        "tensor_indexed = tf.constant([3,5,6,7,8,9,10,20])\n",
        "print(tensor_indexed)\n",
        "print(tensor_indexed[0:3])\n",
        "print(tensor_indexed[1:3])\n",
        "print(tensor_indexed[-1:1])\n",
        "print(tensor_indexed[:-1])\n",
        "#print(tensor_indexed)\n"
      ],
      "metadata": {
        "colab": {
          "base_uri": "https://localhost:8080/"
        },
        "id": "x8vehODt6hqS",
        "outputId": "70b9e12e-7373-4158-b419-b3fb912b6916"
      },
      "execution_count": 5,
      "outputs": [
        {
          "output_type": "stream",
          "name": "stdout",
          "text": [
            "tf.Tensor([ 3  5  6  7  8  9 10 20], shape=(8,), dtype=int32)\n",
            "tf.Tensor([3 5 6], shape=(3,), dtype=int32)\n",
            "tf.Tensor([5 6], shape=(2,), dtype=int32)\n",
            "tf.Tensor([], shape=(0,), dtype=int32)\n",
            "tf.Tensor([ 3  5  6  7  8  9 10], shape=(7,), dtype=int32)\n"
          ]
        }
      ]
    },
    {
      "cell_type": "code",
      "source": [
        "tf.range(2,5)"
      ],
      "metadata": {
        "colab": {
          "base_uri": "https://localhost:8080/"
        },
        "id": "I6457dwuxAlI",
        "outputId": "d1b444e6-6cd3-411c-87f3-9e7b4cc47585"
      },
      "execution_count": 3,
      "outputs": [
        {
          "output_type": "execute_result",
          "data": {
            "text/plain": [
              "<tf.Tensor: shape=(3,), dtype=int32, numpy=array([2, 3, 4], dtype=int32)>"
            ]
          },
          "metadata": {},
          "execution_count": 3
        }
      ]
    },
    {
      "cell_type": "code",
      "source": [
        "tensor_math_abs = tf.math.abs(\n",
        "    -5, name=None\n",
        ")\n",
        "print(tensor_math_abs)"
      ],
      "metadata": {
        "colab": {
          "base_uri": "https://localhost:8080/"
        },
        "id": "ng_r3Af3ypE6",
        "outputId": "455ef604-90af-439f-c8e9-a3056b901867"
      },
      "execution_count": 7,
      "outputs": [
        {
          "output_type": "stream",
          "name": "stdout",
          "text": [
            "tf.Tensor(5, shape=(), dtype=int32)\n"
          ]
        }
      ]
    },
    {
      "cell_type": "code",
      "source": [
        "#abs\n",
        "x_abs = tf.constant([-4,-5])\n",
        "tf.abs(x_abs)"
      ],
      "metadata": {
        "colab": {
          "base_uri": "https://localhost:8080/"
        },
        "id": "s5KFYl-7zJQo",
        "outputId": "d959be56-e1a9-40f8-eed2-0c708519a7d4"
      },
      "execution_count": 21,
      "outputs": [
        {
          "output_type": "execute_result",
          "data": {
            "text/plain": [
              "<tf.Tensor: shape=(2,), dtype=int32, numpy=array([4, 5], dtype=int32)>"
            ]
          },
          "metadata": {},
          "execution_count": 21
        }
      ]
    },
    {
      "cell_type": "code",
      "source": [
        "x = tf.constant([-2+4j])\n",
        "tf.abs(x)\n",
        "#print(x)"
      ],
      "metadata": {
        "colab": {
          "base_uri": "https://localhost:8080/"
        },
        "id": "pM1wS1V-0cYt",
        "outputId": "e56d4478-d241-4306-a480-c351c2c6d9ba"
      },
      "execution_count": 26,
      "outputs": [
        {
          "output_type": "execute_result",
          "data": {
            "text/plain": [
              "<tf.Tensor: shape=(1,), dtype=float64, numpy=array([4.47213595])>"
            ]
          },
          "metadata": {},
          "execution_count": 26
        }
      ]
    },
    {
      "cell_type": "code",
      "source": [
        "tf.sqrt(-2.2**2 + 4.0**2)"
      ],
      "metadata": {
        "colab": {
          "base_uri": "https://localhost:8080/"
        },
        "id": "63NRef6K1mCC",
        "outputId": "62295d66-ea09-4a6c-cd75-6b9147c523f1"
      },
      "execution_count": 31,
      "outputs": [
        {
          "output_type": "execute_result",
          "data": {
            "text/plain": [
              "<tf.Tensor: shape=(), dtype=float32, numpy=3.3406587>"
            ]
          },
          "metadata": {},
          "execution_count": 31
        }
      ]
    },
    {
      "cell_type": "code",
      "source": [
        "#sqrt\n",
        "input_value = tf.cast(-2**2 + 4**2, dtype=tf.float32)\n",
        "result = tf.sqrt(input_value)\n",
        "print(input_value)\n"
      ],
      "metadata": {
        "colab": {
          "base_uri": "https://localhost:8080/"
        },
        "id": "TMWuRJr62c7c",
        "outputId": "ab31eca2-22f1-48de-abde-d75eb832a2c4"
      },
      "execution_count": 34,
      "outputs": [
        {
          "output_type": "stream",
          "name": "stdout",
          "text": [
            "tf.Tensor(12.0, shape=(), dtype=float32)\n"
          ]
        }
      ]
    },
    {
      "cell_type": "code",
      "source": [
        "#addition\n",
        "x_1 = tf.constant([1,2,3,4,5], dtype = tf.int32)\n",
        "x_2 = tf.constant([6,7,8,9,10], dtype = tf.int32)\n",
        "print(tf.add(x_1, x_2))"
      ],
      "metadata": {
        "colab": {
          "base_uri": "https://localhost:8080/"
        },
        "id": "4ypeekGV2wLo",
        "outputId": "b0971116-a7a6-4aac-cb09-de7c35815e0d"
      },
      "execution_count": 37,
      "outputs": [
        {
          "output_type": "stream",
          "name": "stdout",
          "text": [
            "tf.Tensor([ 7  9 11 13 15], shape=(5,), dtype=int32)\n"
          ]
        }
      ]
    },
    {
      "cell_type": "code",
      "source": [
        "#multiply\n",
        "x_1 = tf.constant([1,2,3,4,5], dtype = tf.int32)\n",
        "x_2 = tf.constant([6,7,8,9,10], dtype = tf.int32)\n",
        "print(tf.multiply(x_1, x_2))"
      ],
      "metadata": {
        "colab": {
          "base_uri": "https://localhost:8080/"
        },
        "id": "er9QQrys4TPQ",
        "outputId": "cf5ac8bf-8a01-4147-d935-e782d534792c"
      },
      "execution_count": 38,
      "outputs": [
        {
          "output_type": "stream",
          "name": "stdout",
          "text": [
            "tf.Tensor([ 6 14 24 36 50], shape=(5,), dtype=int32)\n"
          ]
        }
      ]
    },
    {
      "cell_type": "code",
      "source": [
        "#subtract\n",
        "x_1 = tf.constant([1,2,3,4,5], dtype = tf.int32)\n",
        "x_2 = tf.constant([6,7,8,9,10], dtype = tf.int32)\n",
        "print(tf.subtract(x_1, x_2))"
      ],
      "metadata": {
        "colab": {
          "base_uri": "https://localhost:8080/"
        },
        "id": "zS0Jaz224aKB",
        "outputId": "840c5581-d9ca-4695-a1c4-05208ce5f40d"
      },
      "execution_count": 39,
      "outputs": [
        {
          "output_type": "stream",
          "name": "stdout",
          "text": [
            "tf.Tensor([-5 -5 -5 -5 -5], shape=(5,), dtype=int32)\n"
          ]
        }
      ]
    },
    {
      "cell_type": "code",
      "source": [
        "#divide\n",
        "x_1 = tf.constant([1,2,3,4,5], dtype = tf.int32)\n",
        "x_2 = tf.constant([6,7,8,9,10], dtype = tf.int32)\n",
        "print(tf.divide(x_1, x_2))"
      ],
      "metadata": {
        "colab": {
          "base_uri": "https://localhost:8080/"
        },
        "id": "jSEK7OXl4jMJ",
        "outputId": "d1dd4cfc-8f88-491e-c9fd-c7407570cd8c"
      },
      "execution_count": 40,
      "outputs": [
        {
          "output_type": "stream",
          "name": "stdout",
          "text": [
            "tf.Tensor([0.16666667 0.28571429 0.375      0.44444444 0.5       ], shape=(5,), dtype=float64)\n"
          ]
        }
      ]
    },
    {
      "cell_type": "code",
      "source": [
        "#divide\n",
        "x_1 = tf.constant([1,2,3,4,5], dtype = tf.float32)\n",
        "x_2 = tf.constant([6,7,8,0,10], dtype = tf.float32)\n",
        "print(tf.math.divide_no_nan(x_1, x_2))"
      ],
      "metadata": {
        "colab": {
          "base_uri": "https://localhost:8080/"
        },
        "id": "GfKAhqTN4yRa",
        "outputId": "9f841517-6f12-43dc-9732-5408166074db"
      },
      "execution_count": 44,
      "outputs": [
        {
          "output_type": "stream",
          "name": "stdout",
          "text": [
            "tf.Tensor([0.16666667 0.2857143  0.375      0.         0.5       ], shape=(5,), dtype=float32)\n"
          ]
        }
      ]
    }
  ]
}