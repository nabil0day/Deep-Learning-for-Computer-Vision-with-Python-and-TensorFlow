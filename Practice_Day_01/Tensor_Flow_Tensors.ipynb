{
  "nbformat": 4,
  "nbformat_minor": 0,
  "metadata": {
    "colab": {
      "provenance": [],
      "authorship_tag": "ABX9TyMlCXjWwYP/1oxLrO1X7fOk",
      "include_colab_link": true
    },
    "kernelspec": {
      "name": "python3",
      "display_name": "Python 3"
    },
    "language_info": {
      "name": "python"
    }
  },
  "cells": [
    {
      "cell_type": "markdown",
      "metadata": {
        "id": "view-in-github",
        "colab_type": "text"
      },
      "source": [
        "<a href=\"https://colab.research.google.com/github/nabil0day/Deep-Learning-for-Computer-Vision-with-Python-and-TensorFlow/blob/main/Practice_Day_01/Tensor_Flow_Tensors.ipynb\" target=\"_parent\"><img src=\"https://colab.research.google.com/assets/colab-badge.svg\" alt=\"Open In Colab\"/></a>"
      ]
    },
    {
      "cell_type": "code",
      "execution_count": 3,
      "metadata": {
        "colab": {
          "base_uri": "https://localhost:8080/"
        },
        "id": "AordlKCuxI5Q",
        "outputId": "22985bb4-c235-4650-b1c4-ecc2b1084c80"
      },
      "outputs": [
        {
          "output_type": "stream",
          "name": "stdout",
          "text": [
            "tf.Tensor(4, shape=(), dtype=int32)\n"
          ]
        }
      ],
      "source": [
        "import tensorflow as tf\n",
        "tensor_zero_d = tf.constant(4)\n",
        "print(tensor_zero_d)"
      ]
    },
    {
      "cell_type": "code",
      "source": [
        "tensor_one_d = tf.constant([2,0,-3,45,677], dtype = tf.float32)\n",
        "print(tensor_one_d)"
      ],
      "metadata": {
        "colab": {
          "base_uri": "https://localhost:8080/"
        },
        "id": "Sws7fOd91Biz",
        "outputId": "419b58cb-f692-4774-909e-591f0e1f4282"
      },
      "execution_count": 19,
      "outputs": [
        {
          "output_type": "stream",
          "name": "stdout",
          "text": [
            "tf.Tensor([  2.   0.  -3.  45. 677.], shape=(5,), dtype=float32)\n"
          ]
        }
      ]
    },
    {
      "cell_type": "code",
      "source": [
        "tensor_two_d = tf.constant([\n",
        "    [1,2,3],\n",
        "    [4,5,6],\n",
        "    [8,9,200],\n",
        "    [22,31,222]\n",
        "])\n",
        "print(tensor_two_d)"
      ],
      "metadata": {
        "colab": {
          "base_uri": "https://localhost:8080/"
        },
        "id": "EkAJcjWd3Ql2",
        "outputId": "91a4d6c3-d976-4fd7-86a4-ff2cd30b91a0"
      },
      "execution_count": 9,
      "outputs": [
        {
          "output_type": "stream",
          "name": "stdout",
          "text": [
            "tf.Tensor(\n",
            "[[  1   2   3]\n",
            " [  4   5   6]\n",
            " [  8   9 200]\n",
            " [ 22  31 222]], shape=(4, 3), dtype=int32)\n"
          ]
        }
      ]
    },
    {
      "cell_type": "code",
      "source": [
        "tensor_three_d = tf.constant([\n",
        "    [[1,2,30],\n",
        "     [3,4,5]],\n",
        "    [[4,5,6],\n",
        "     [8,8,8]],\n",
        "    [[1,1,1],\n",
        "     [3,3,3]],\n",
        "    [[6,6,6],\n",
        "     [9,9,9]]\n",
        "])\n",
        "print(tensor_three_d)"
      ],
      "metadata": {
        "colab": {
          "base_uri": "https://localhost:8080/"
        },
        "id": "qvVMHzAI4kyE",
        "outputId": "1c066a33-2a8c-4564-ded3-c08b6994b17b"
      },
      "execution_count": 11,
      "outputs": [
        {
          "output_type": "stream",
          "name": "stdout",
          "text": [
            "tf.Tensor(\n",
            "[[[ 1  2 30]\n",
            "  [ 3  4  5]]\n",
            "\n",
            " [[ 4  5  6]\n",
            "  [ 8  8  8]]\n",
            "\n",
            " [[ 1  1  1]\n",
            "  [ 3  3  3]]\n",
            "\n",
            " [[ 6  6  6]\n",
            "  [ 9  9  9]]], shape=(4, 2, 3), dtype=int32)\n"
          ]
        }
      ]
    },
    {
      "cell_type": "code",
      "source": [
        "print(tensor_two_d.shape)"
      ],
      "metadata": {
        "colab": {
          "base_uri": "https://localhost:8080/"
        },
        "id": "PzTCb0M154pY",
        "outputId": "477dacd4-d3ce-4c38-f8ad-e2fa77d59321"
      },
      "execution_count": 14,
      "outputs": [
        {
          "output_type": "stream",
          "name": "stdout",
          "text": [
            "(4, 3)\n"
          ]
        }
      ]
    },
    {
      "cell_type": "code",
      "source": [
        "print(tensor_three_d.ndim)"
      ],
      "metadata": {
        "colab": {
          "base_uri": "https://localhost:8080/"
        },
        "id": "UOxNfm6O6PO7",
        "outputId": "de8b509a-a888-4b0b-d9dc-4dfdc7c0678e"
      },
      "execution_count": 17,
      "outputs": [
        {
          "output_type": "stream",
          "name": "stdout",
          "text": [
            "3\n"
          ]
        }
      ]
    },
    {
      "cell_type": "code",
      "source": [
        "tensor_four_d = tf.constant([\n",
        "   [ [[1,2,30],\n",
        "     [3,4,5]],\n",
        "    [[4,5,6],\n",
        "     [8,8,8]],\n",
        "    [[1,1,1],\n",
        "     [3,3,3]],\n",
        "    [[6,6,6],\n",
        "     [9,9,9]]\n",
        "   ],\n",
        "      [ [[1,2,30],\n",
        "     [3,4,5]],\n",
        "    [[4,5,6],\n",
        "     [8,8,8]],\n",
        "    [[1,1,1],\n",
        "     [3,3,3]],\n",
        "    [[6,6,6],\n",
        "     [9,9,9]]\n",
        "   ],\n",
        "      [ [[1,2,30],\n",
        "     [3,4,5]],\n",
        "    [[4,5,6],\n",
        "     [8,8,8]],\n",
        "    [[1,1,1],\n",
        "     [3,3,3]],\n",
        "    [[6,6,6],\n",
        "     [9,9,9]]\n",
        "   ],\n",
        "])\n",
        "print(tensor_four_d)"
      ],
      "metadata": {
        "colab": {
          "base_uri": "https://localhost:8080/"
        },
        "id": "2bH7tTa665XA",
        "outputId": "78260b43-8290-435f-93d1-fcb9ef5f87be"
      },
      "execution_count": 18,
      "outputs": [
        {
          "output_type": "stream",
          "name": "stdout",
          "text": [
            "tf.Tensor(\n",
            "[[[[ 1  2 30]\n",
            "   [ 3  4  5]]\n",
            "\n",
            "  [[ 4  5  6]\n",
            "   [ 8  8  8]]\n",
            "\n",
            "  [[ 1  1  1]\n",
            "   [ 3  3  3]]\n",
            "\n",
            "  [[ 6  6  6]\n",
            "   [ 9  9  9]]]\n",
            "\n",
            "\n",
            " [[[ 1  2 30]\n",
            "   [ 3  4  5]]\n",
            "\n",
            "  [[ 4  5  6]\n",
            "   [ 8  8  8]]\n",
            "\n",
            "  [[ 1  1  1]\n",
            "   [ 3  3  3]]\n",
            "\n",
            "  [[ 6  6  6]\n",
            "   [ 9  9  9]]]\n",
            "\n",
            "\n",
            " [[[ 1  2 30]\n",
            "   [ 3  4  5]]\n",
            "\n",
            "  [[ 4  5  6]\n",
            "   [ 8  8  8]]\n",
            "\n",
            "  [[ 1  1  1]\n",
            "   [ 3  3  3]]\n",
            "\n",
            "  [[ 6  6  6]\n",
            "   [ 9  9  9]]]], shape=(3, 4, 2, 3), dtype=int32)\n"
          ]
        }
      ]
    },
    {
      "cell_type": "code",
      "source": [
        "tensor_bool = tf.constant([True,True,False])\n",
        "print(tensor_bool)"
      ],
      "metadata": {
        "colab": {
          "base_uri": "https://localhost:8080/"
        },
        "id": "7LTIjNbj86Zb",
        "outputId": "79a395ed-31d4-4040-a7a6-3e12f5060494"
      },
      "execution_count": 21,
      "outputs": [
        {
          "output_type": "stream",
          "name": "stdout",
          "text": [
            "tf.Tensor([ True  True False], shape=(3,), dtype=bool)\n"
          ]
        }
      ]
    },
    {
      "cell_type": "code",
      "source": [
        "tensor_string = tf.constant(\"Hello This is Hadiur Rahman Nabil, Deep Learning for Computer Vision using Python and TensorFlow\")\n",
        "print(tensor_string)"
      ],
      "metadata": {
        "colab": {
          "base_uri": "https://localhost:8080/"
        },
        "id": "zC6NF7ty9Rno",
        "outputId": "beb07820-b23c-43f3-beca-938e6bc51ea2"
      },
      "execution_count": 22,
      "outputs": [
        {
          "output_type": "stream",
          "name": "stdout",
          "text": [
            "tf.Tensor(b'Hello This is Hadiur Rahman Nabil, Deep Learning for Computer Vision using Python and TensorFlow', shape=(), dtype=string)\n"
          ]
        }
      ]
    },
    {
      "cell_type": "code",
      "source": [
        "tensor_string = tf.constant([\"Hello This is Hadiur Rahman Nabil\", \"Deep Learning for Computer Vision using Python and TensorFlow\"])\n",
        "print(tensor_string)"
      ],
      "metadata": {
        "colab": {
          "base_uri": "https://localhost:8080/"
        },
        "id": "msoCVy2u9yng",
        "outputId": "3216040e-6c28-47e2-c99d-a5e4abb533a7"
      },
      "execution_count": 23,
      "outputs": [
        {
          "output_type": "stream",
          "name": "stdout",
          "text": [
            "tf.Tensor(\n",
            "[b'Hello This is Hadiur Rahman Nabil'\n",
            " b'Deep Learning for Computer Vision using Python and TensorFlow'], shape=(2,), dtype=string)\n"
          ]
        }
      ]
    },
    {
      "cell_type": "code",
      "source": [
        "import numpy as np\n",
        "np_array = np.array([1,2,3,4])\n",
        "print(np_array)"
      ],
      "metadata": {
        "colab": {
          "base_uri": "https://localhost:8080/"
        },
        "id": "1TvV1qNH-PP9",
        "outputId": "37522748-4f89-4ae1-87b6-121d162d9202"
      },
      "execution_count": 24,
      "outputs": [
        {
          "output_type": "stream",
          "name": "stdout",
          "text": [
            "[1 2 3 4]\n"
          ]
        }
      ]
    }
  ]
}